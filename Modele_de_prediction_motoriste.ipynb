{
 "cells": [
  {
   "cell_type": "code",
   "execution_count": 1,
   "id": "c74f1a73",
   "metadata": {},
   "outputs": [
    {
     "name": "stdout",
     "output_type": "stream",
     "text": [
      "travail sr un echantillon de 50 pilotes\n"
     ]
    }
   ],
   "source": [
    "#travail avec la bdd csv 'bdd_driv'\n",
    "#trouver quel motoriste derriere les stats d un pilote\n",
    "#pilote,course,qualif,gestion_pneu,depassement,motoriste\n",
    "\n",
    "#import du fichier csv et traduction en liste de dict\n",
    "import csv\n",
    "\n",
    "def chrg_bdd(nomfic):\n",
    "    table = []\n",
    "    with open(nomfic, 'r', newline=\"\", encoding=\"utf-8\") as csvfile:\n",
    "        driv_reader = csv.reader(csvfile, delimiter=\";\")\n",
    "        driv_reader.__next__()\n",
    "        for driv in driv_reader:\n",
    "            table.append({\"name\":driv[0],\n",
    "                         \"course\":int(driv[1]),\n",
    "                         \"qualif\":int(driv[2]),\n",
    "                         \"gpneu\":int(driv[3]),\n",
    "                         \"depassmt\":int(driv[4]),\n",
    "                         \"moteur\":driv[5]})\n",
    "        \n",
    "    return table\n",
    "\n",
    "my_table = chrg_bdd(\"bdd_driv.csv\")\n",
    "print(\"travail sr un echantillon de\", len(my_table), \"pilotes\")\n",
    "#print(\"detail:\\n\", mytable)\n",
    "\n",
    "#print(type(my_table[0][\"course\"]))"
   ]
  },
  {
   "cell_type": "code",
   "execution_count": 3,
   "id": "aa371776",
   "metadata": {},
   "outputs": [],
   "source": [
    "#proposition d une nouvelle instance\n",
    "rookie = {\"name\":\"ORG\",\n",
    "            \"course\":2,\n",
    "            \"qualif\":8,\n",
    "            \"gpneu\":8,\n",
    "            \"depassmt\":3,\n",
    "            \"moteur\":None}\n",
    "\n",
    "#my_table.append(rookie)\n",
    "#print(len(my_table))"
   ]
  },
  {
   "cell_type": "code",
   "execution_count": 4,
   "id": "53326e58",
   "metadata": {},
   "outputs": [],
   "source": [
    "#calcul de la distance de manattan btw nvl instance et un driver de la bdd\n",
    "def dist_driv(driv1,driv2):\n",
    "    return abs(driv1[\"course\"] - driv2[\"course\"]) + abs(driv1[\"qualif\"] - driv2[\"qualif\"]) + abs(driv1[\"gpneu\"] - driv2[\"gpneu\"]) + abs(driv1[\"depassmt\"] - driv2[\"depassmt\"])\n",
    "\n",
    "#print(dist_driv(my_table[0], rookie))"
   ]
  },
  {
   "cell_type": "code",
   "execution_count": 5,
   "id": "a10f2033",
   "metadata": {},
   "outputs": [
    {
     "name": "stdout",
     "output_type": "stream",
     "text": [
      "{'Mercedes': 12, 'Ferrari': 17, 'Honda': 11, 'Alpine': 10}\n"
     ]
    }
   ],
   "source": [
    "#calcul de la frequence des motoristes de la bdd\n",
    "def freq_motor(table):\n",
    "    frequence = {}\n",
    "    for driv in table:\n",
    "        moteur = driv[\"moteur\"]\n",
    "        if moteur in frequence.keys():\n",
    "            frequence[moteur] = frequence[moteur] + 1\n",
    "        else:\n",
    "            frequence[moteur] = 1 #creation et initialisation a 1 du moteur\n",
    "            \n",
    "    return frequence\n",
    "\n",
    "my_frequence = freq_motor(my_table)\n",
    "print(my_frequence)"
   ]
  },
  {
   "cell_type": "code",
   "execution_count": 6,
   "id": "24e08c41",
   "metadata": {},
   "outputs": [
    {
     "name": "stdout",
     "output_type": "stream",
     "text": [
      "Ferrari\n"
     ]
    }
   ],
   "source": [
    "#calcul de la motorisation majoritaire de la bdd\n",
    "def motor_majo(table):\n",
    "    frequence = freq_motor(table)\n",
    "    motor_max = table[0][\"moteur\"]\n",
    "    for (moteur, nb) in frequence.items():\n",
    "        if frequence[motor_max] < nb:\n",
    "            motor_max = moteur\n",
    "            \n",
    "    return motor_max\n",
    "\n",
    "my_motor_majo = motor_majo(my_table)\n",
    "print(my_motor_majo)"
   ]
  },
  {
   "cell_type": "code",
   "execution_count": 8,
   "id": "d12bead4",
   "metadata": {},
   "outputs": [
    {
     "name": "stdout",
     "output_type": "stream",
     "text": [
      "les pilotes voisins à ORG  sont:\n",
      "  [{'name': 'VER', 'course': 2, 'qualif': 8, 'gpneu': 8, 'depassmt': 3, 'moteur': 'Honda'}, {'name': 'ALB', 'course': 2, 'qualif': 9, 'gpneu': 9, 'depassmt': 2, 'moteur': 'Honda'}, {'name': 'OCO', 'course': 4, 'qualif': 8, 'gpneu': 7, 'depassmt': 4, 'moteur': 'Alpine'}, {'name': 'ERI', 'course': 5, 'qualif': 9, 'gpneu': 8, 'depassmt': 4, 'moteur': 'Alpine'}, {'name': 'GAS', 'course': 5, 'qualif': 7, 'gpneu': 10, 'depassmt': 3, 'moteur': 'Honda'}, {'name': 'HUB', 'course': 2, 'qualif': 8, 'gpneu': 9, 'depassmt': 8, 'moteur': 'Alpine'}, {'name': 'HUL', 'course': 3, 'qualif': 10, 'gpneu': 7, 'depassmt': 6, 'moteur': 'Alpine'}]\n"
     ]
    }
   ],
   "source": [
    "#trouver les k ppv d une nvl instance\n",
    "def driv_ppv(table, nvdriv, k):\n",
    "    k = 7\n",
    "    def dist_nvdriv(driv):\n",
    "        return dist_driv(driv, nvdriv)\n",
    "    \n",
    "    #trie croissant des voisins\n",
    "    table_trie = sorted(table, key= dist_nvdriv)\n",
    "    #prendre les k premiers voisins\n",
    "    driv_ppv = []\n",
    "    for i in range(k):\n",
    "        driv_ppv.append(table_trie[i])\n",
    "        \n",
    "    return driv_ppv\n",
    "\n",
    "#liste des 7 voisins de rookie\n",
    "roo_ppv = driv_ppv(my_table, rookie, 7)\n",
    "print(\"les pilotes voisins à\", rookie[\"name\"], \" sont:\\n \", roo_ppv)"
   ]
  },
  {
   "cell_type": "code",
   "execution_count": 9,
   "id": "35775ed9",
   "metadata": {},
   "outputs": [
    {
     "name": "stdout",
     "output_type": "stream",
     "text": [
      "Alpine\n"
     ]
    }
   ],
   "source": [
    "#predire le motoriste\n",
    "def motor_predit(table, nvdriv, k):\n",
    "    nvdriv_ppv = driv_ppv(table, nvdriv, k)\n",
    "    motor_deci = motor_majo(nvdriv_ppv)\n",
    "    \n",
    "    return motor_deci\n",
    "\n",
    "#predire le motoriste de notre rookie en se basant sur ses 7 pppv\n",
    "roo_predit = motor_predit(my_table, rookie, 7)\n",
    "print(roo_predit)"
   ]
  },
  {
   "cell_type": "code",
   "execution_count": null,
   "id": "8cc6d720",
   "metadata": {},
   "outputs": [],
   "source": []
  },
  {
   "cell_type": "code",
   "execution_count": null,
   "id": "ea3dd4fd",
   "metadata": {},
   "outputs": [],
   "source": []
  }
 ],
 "metadata": {
  "kernelspec": {
   "display_name": "Python 3",
   "language": "python",
   "name": "python3"
  },
  "language_info": {
   "codemirror_mode": {
    "name": "ipython",
    "version": 3
   },
   "file_extension": ".py",
   "mimetype": "text/x-python",
   "name": "python",
   "nbconvert_exporter": "python",
   "pygments_lexer": "ipython3",
   "version": "3.8.8"
  }
 },
 "nbformat": 4,
 "nbformat_minor": 5
}
